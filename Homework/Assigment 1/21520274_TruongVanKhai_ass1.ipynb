{
  "nbformat": 4,
  "nbformat_minor": 0,
  "metadata": {
    "colab": {
      "provenance": []
    },
    "kernelspec": {
      "name": "python3",
      "display_name": "Python 3"
    },
    "language_info": {
      "name": "python"
    }
  },
  "cells": [
    {
      "cell_type": "code",
      "source": [
        "import numpy as np\n",
        "\n",
        "class CNFConverter:\n",
        "    def __init__(self, n, sentences, data):\n",
        "        self.n = n\n",
        "        self.sentences = sentences\n",
        "        self.data = data\n",
        "        self.memo = [[-1 for _ in range(n)] for _ in range(n)]\n",
        "\n",
        "    def find_best_score_tree(self, start, end):\n",
        "        if start == end:\n",
        "            return self.data[start][end][0]\n",
        "\n",
        "        scores = []\n",
        "        for i in range(start, end):\n",
        "            l = self.find_best_score_tree(start, i)\n",
        "            r = self.find_best_score_tree(i + 1, end)\n",
        "            scores.append(l + r)\n",
        "\n",
        "        max_idx = np.argmax(scores)\n",
        "        max_score = scores[max_idx]\n",
        "        max_idx += start\n",
        "        self.memo[start][end] = max_idx\n",
        "\n",
        "        return max_score + self.data[start][end][0]\n",
        "\n",
        "    def create_cnf(self, start, end):\n",
        "        if start == end:\n",
        "          return {\n",
        "            'value': self.data[start][end][1],\n",
        "            'children': [{'value': self.sentences[start], 'children': []}]\n",
        "        }\n",
        "        else:\n",
        "          i = self.memo[start][end]\n",
        "          return {\n",
        "            'value': self.data[start][end][1],\n",
        "            'children': [self.create_cnf(start, i), self.create_cnf(i + 1, end)]\n",
        "            }\n",
        "\n",
        "    def process_double_colon(self,tree):\n",
        "        if '::' in tree['value']:\n",
        "          value = tree['value'].split('::')\n",
        "          children = tree['children']\n",
        "\n",
        "          node = tree\n",
        "\n",
        "          for i in range(len(value) - 1):\n",
        "              node['value'] = value[i]\n",
        "              node['children'] = [{}]\n",
        "              node = node['children'][0]\n",
        "\n",
        "          node['value'] = value[-1]\n",
        "          node['children'] = children\n",
        "\n",
        "    def truncate_parent(self, tree):\n",
        "        if len(tree['children']) == 0:\n",
        "            return\n",
        "\n",
        "        for child_node in tree['children']:\n",
        "            self.cnf2cfg(child_node)\n",
        "\n",
        "        children_truncated = []\n",
        "        for child_node in tree['children']:\n",
        "            if '|<>' not in child_node['value']:\n",
        "                children_truncated.append(child_node)\n",
        "            else:\n",
        "                children_truncated.extend(child_node['children'])\n",
        "\n",
        "        tree['children'] = children_truncated\n",
        "\n",
        "    def cnf2cfg(self, tree):\n",
        "        self.process_double_colon(tree)\n",
        "        self.truncate_parent(tree)\n",
        "\n",
        "    def get_results(self, tree):\n",
        "        res = '(' + tree['value']\n",
        "\n",
        "        for child in tree['children']:\n",
        "            res += self.get_results(child)\n",
        "\n",
        "        res += ')'\n",
        "\n",
        "        return res"
      ],
      "metadata": {
        "id": "GfdAXlfl_q04"
      },
      "execution_count": 71,
      "outputs": []
    },
    {
      "cell_type": "code",
      "source": [
        "def read_input(file_path):\n",
        "    with open(file_path, 'r') as file:\n",
        "      n = int(file.readline().strip())\n",
        "      sentence = file.readline().strip().split()\n",
        "      data = [[None for _ in range(n)] for _ in range(n)]\n",
        "\n",
        "      for _ in range(int(n * (n + 1) / 2)):\n",
        "          start, end, score, tag = file.readline().strip().split()\n",
        "          start, end, score = int(start), int(end) - 1, float(score)\n",
        "          data[start][end] = [score, tag]\n",
        "      return n, sentence, data"
      ],
      "metadata": {
        "id": "Z0RbjLvMHpn-"
      },
      "execution_count": 72,
      "outputs": []
    },
    {
      "cell_type": "markdown",
      "source": [
        "#Testcase 1"
      ],
      "metadata": {
        "id": "o0L1u2YyINCH"
      }
    },
    {
      "cell_type": "code",
      "source": [
        "n, sentence, data = read_input(\"/content/input1.txt\")\n",
        "cnf_converter = CNFConverter(n, sentence, data)\n",
        "cnf_converter.find_best_score_tree(0, n - 1)\n",
        "tree = cnf_converter.create_cnf(0, n - 1)\n",
        "cnf_converter.cnf2cfg(tree)\n",
        "print(cnf_converter.get_results(tree))"
      ],
      "metadata": {
        "colab": {
          "base_uri": "https://localhost:8080/"
        },
        "id": "vM1IT58FHZnT",
        "outputId": "809d3ee2-c6d9-47b2-82ab-be613554c9d8"
      },
      "execution_count": 73,
      "outputs": [
        {
          "output_type": "stream",
          "name": "stdout",
          "text": [
            "(S(NP-TMP(Hôm_nay))(NP-SUB(tôi))(VP(đi)(học))(.))\n"
          ]
        }
      ]
    },
    {
      "cell_type": "markdown",
      "source": [
        "#Testcase2"
      ],
      "metadata": {
        "id": "eQkdZ2DwIV9u"
      }
    },
    {
      "cell_type": "code",
      "source": [
        "n, sentence, data = read_input(\"/content/input2.txt\")\n",
        "cnf_converter = CNFConverter(n, sentence, data)\n",
        "cnf_converter.find_best_score_tree(0, n - 1)\n",
        "tree = cnf_converter.create_cnf(0, n - 1)\n",
        "cnf_converter.cnf2cfg(tree)\n",
        "print(cnf_converter.get_results(tree))"
      ],
      "metadata": {
        "colab": {
          "base_uri": "https://localhost:8080/"
        },
        "id": "Do-ZFQDVIW-q",
        "outputId": "a9ebd419-c838-4d99-c233-fe3653d956ee"
      },
      "execution_count": 74,
      "outputs": [
        {
          "output_type": "stream",
          "name": "stdout",
          "text": [
            "(S(NP(He))(VP(enjoys)(S(VP(playing)(NP(soccer)))))(.))\n"
          ]
        }
      ]
    }
  ]
}